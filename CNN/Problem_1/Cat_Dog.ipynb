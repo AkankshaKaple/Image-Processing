{
 "cells": [
  {
   "cell_type": "code",
   "execution_count": 1,
   "metadata": {},
   "outputs": [
    {
     "name": "stderr",
     "output_type": "stream",
     "text": [
      "Using TensorFlow backend.\n"
     ]
    }
   ],
   "source": [
    "import keras\n",
    "from keras.models import Sequential\n",
    "from keras.layers import Convolution2D\n",
    "from keras.layers import MaxPooling2D, Flatten, Dense\n",
    "from keras.preprocessing.image import ImageDataGenerator\n",
    "import pickle"
   ]
  },
  {
   "cell_type": "code",
   "execution_count": 2,
   "metadata": {},
   "outputs": [],
   "source": [
    "classifier = Sequential()"
   ]
  },
  {
   "cell_type": "code",
   "execution_count": 3,
   "metadata": {},
   "outputs": [
    {
     "name": "stderr",
     "output_type": "stream",
     "text": [
      "/home/admin28/anaconda3/envs/akanksha_env/lib/python3.6/site-packages/ipykernel_launcher.py:1: UserWarning: Update your `Conv2D` call to the Keras 2 API: `Conv2D(32, (3, 3), input_shape=(64, 64, 3..., activation=\"relu\")`\n",
      "  \"\"\"Entry point for launching an IPython kernel.\n"
     ]
    },
    {
     "name": "stdout",
     "output_type": "stream",
     "text": [
      "WARNING:tensorflow:From /home/admin28/.local/lib/python3.6/site-packages/tensorflow/python/framework/op_def_library.py:263: colocate_with (from tensorflow.python.framework.ops) is deprecated and will be removed in a future version.\n",
      "Instructions for updating:\n",
      "Colocations handled automatically by placer.\n"
     ]
    },
    {
     "name": "stderr",
     "output_type": "stream",
     "text": [
      "/home/admin28/anaconda3/envs/akanksha_env/lib/python3.6/site-packages/ipykernel_launcher.py:4: UserWarning: Update your `Conv2D` call to the Keras 2 API: `Conv2D(32, (3, 3), activation=\"relu\")`\n",
      "  after removing the cwd from sys.path.\n"
     ]
    }
   ],
   "source": [
    "classifier.add(Convolution2D(32,3,3, input_shape=(64,64,3), activation='relu'))\n",
    "classifier.add(MaxPooling2D(pool_size=(2,2)))\n",
    "\n",
    "classifier.add(Convolution2D(32,3,3, activation='relu'))\n",
    "classifier.add(MaxPooling2D(pool_size=(2,2)))\n",
    "classifier.add(Flatten())"
   ]
  },
  {
   "cell_type": "code",
   "execution_count": null,
   "metadata": {},
   "outputs": [
    {
     "name": "stderr",
     "output_type": "stream",
     "text": [
      "/home/admin28/anaconda3/envs/akanksha_env/lib/python3.6/site-packages/ipykernel_launcher.py:1: UserWarning: Update your `Dense` call to the Keras 2 API: `Dense(activation=\"relu\", units=300)`\n",
      "  \"\"\"Entry point for launching an IPython kernel.\n",
      "/home/admin28/anaconda3/envs/akanksha_env/lib/python3.6/site-packages/ipykernel_launcher.py:2: UserWarning: Update your `Dense` call to the Keras 2 API: `Dense(activation=\"relu\", units=200)`\n",
      "  \n",
      "/home/admin28/anaconda3/envs/akanksha_env/lib/python3.6/site-packages/ipykernel_launcher.py:3: UserWarning: Update your `Dense` call to the Keras 2 API: `Dense(activation=\"sigmoid\", units=1)`\n",
      "  This is separate from the ipykernel package so we can avoid doing imports until\n"
     ]
    },
    {
     "name": "stdout",
     "output_type": "stream",
     "text": [
      "Found 8000 images belonging to 2 classes.\n",
      "Found 2000 images belonging to 2 classes.\n",
      "WARNING:tensorflow:From /home/admin28/.local/lib/python3.6/site-packages/tensorflow/python/ops/math_ops.py:3066: to_int32 (from tensorflow.python.ops.math_ops) is deprecated and will be removed in a future version.\n",
      "Instructions for updating:\n",
      "Use tf.cast instead.\n"
     ]
    },
    {
     "name": "stderr",
     "output_type": "stream",
     "text": [
      "/home/admin28/anaconda3/envs/akanksha_env/lib/python3.6/site-packages/ipykernel_launcher.py:26: UserWarning: The semantics of the Keras 2 argument `steps_per_epoch` is not the same as the Keras 1 argument `samples_per_epoch`. `steps_per_epoch` is the number of batches to draw from the generator at each epoch. Basically steps_per_epoch = samples_per_epoch/batch_size. Similarly `nb_val_samples`->`validation_steps` and `val_samples`->`steps` arguments have changed. Update your method calls accordingly.\n",
      "/home/admin28/anaconda3/envs/akanksha_env/lib/python3.6/site-packages/ipykernel_launcher.py:26: UserWarning: Update your `fit_generator` call to the Keras 2 API: `fit_generator(<keras_pre..., steps_per_epoch=250, epochs=25)`\n"
     ]
    },
    {
     "name": "stdout",
     "output_type": "stream",
     "text": [
      "Epoch 1/25\n",
      "250/250 [==============================] - 135s 542ms/step - loss: 0.6725 - acc: 0.5821\n",
      "Epoch 2/25\n",
      "250/250 [==============================] - 68s 271ms/step - loss: 0.6105 - acc: 0.6658\n",
      "Epoch 3/25\n",
      "250/250 [==============================] - 67s 270ms/step - loss: 0.5676 - acc: 0.7017\n",
      "Epoch 4/25\n",
      "250/250 [==============================] - 68s 271ms/step - loss: 0.5417 - acc: 0.7252\n",
      "Epoch 5/25\n",
      "250/250 [==============================] - 67s 270ms/step - loss: 0.5134 - acc: 0.7423\n",
      "Epoch 6/25\n",
      "250/250 [==============================] - 68s 270ms/step - loss: 0.4954 - acc: 0.7579\n",
      "Epoch 7/25\n",
      "250/250 [==============================] - 68s 271ms/step - loss: 0.4789 - acc: 0.7665\n",
      "Epoch 8/25\n",
      "250/250 [==============================] - 68s 271ms/step - loss: 0.4520 - acc: 0.7848\n",
      "Epoch 9/25\n",
      "250/250 [==============================] - 68s 271ms/step - loss: 0.4334 - acc: 0.7978\n",
      "Epoch 10/25\n",
      "250/250 [==============================] - 67s 270ms/step - loss: 0.4150 - acc: 0.8114\n",
      "Epoch 11/25\n",
      "250/250 [==============================] - 67s 269ms/step - loss: 0.3943 - acc: 0.8175\n",
      "Epoch 12/25\n",
      "250/250 [==============================] - 67s 269ms/step - loss: 0.3927 - acc: 0.8179\n",
      "Epoch 13/25\n",
      "250/250 [==============================] - 67s 269ms/step - loss: 0.3638 - acc: 0.8370\n",
      "Epoch 14/25\n",
      "191/250 [=====================>........] - ETA: 15s - loss: 0.3371 - acc: 0.8531"
     ]
    }
   ],
   "source": [
    "classifier.add(Dense(output_dim = 300, activation = 'relu'))\n",
    "classifier.add(Dense(output_dim = 200, activation = 'relu'))\n",
    "classifier.add(Dense(output_dim = 1, activation = 'sigmoid'))\n",
    "\n",
    "classifier.compile(optimizer='adam', loss='binary_crossentropy', metrics=['accuracy'])\n",
    "\n",
    "train_datagen = ImageDataGenerator(rescale=1.0/255, shear_range=0.2, zoom_range=0.2, horizontal_flip=True)                                                                                                                                                                                                                     \n",
    "test_datagen = ImageDataGenerator(rescale=1.0/255)\n",
    "\n",
    "training_set = train_datagen.flow_from_directory(\n",
    "        'dataset/training_set',\n",
    "        target_size=(64, 64), # as we specified in inpout layer if neural network\n",
    "        batch_size=32, # size of batch to which we'll apply train_datagen\n",
    "        class_mode='binary') # output binary\n",
    "\n",
    "test_set = test_datagen.flow_from_directory(\n",
    "        'dataset/test_set',\n",
    "        target_size=(64, 64), # as we specified in inpout layer oif neural network\n",
    "        batch_size=32,\n",
    "        class_mode='binary') # output binary\n",
    "\n",
    "# it fits on data set and also test on the data fodler\n",
    "classifier.fit_generator(\n",
    "        training_set,\n",
    "        samples_per_epoch=8000, # number of images we have in training set \n",
    "        nb_epoch=25,# iteration\n",
    "        )"
   ]
  },
  {
   "cell_type": "code",
   "execution_count": null,
   "metadata": {},
   "outputs": [],
   "source": []
  }
 ],
 "metadata": {
  "kernelspec": {
   "display_name": "Python 3",
   "language": "python",
   "name": "python3"
  },
  "language_info": {
   "codemirror_mode": {
    "name": "ipython",
    "version": 3
   },
   "file_extension": ".py",
   "mimetype": "text/x-python",
   "name": "python",
   "nbconvert_exporter": "python",
   "pygments_lexer": "ipython3",
   "version": "3.6.8"
  }
 },
 "nbformat": 4,
 "nbformat_minor": 2
}
