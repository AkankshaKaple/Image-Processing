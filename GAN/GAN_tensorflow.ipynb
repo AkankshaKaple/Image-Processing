{
 "cells": [
  {
   "cell_type": "code",
   "execution_count": 13,
   "metadata": {},
   "outputs": [],
   "source": [
    "import numpy as np\n",
    "import pandas as pd\n",
    "import matplotlib.pyplot as plt\n",
    "import tensorflow as tf\n",
    "import warnings\n",
    "warnings.filterwarnings('ignore')\n",
    "\n"
   ]
  },
  {
   "cell_type": "code",
   "execution_count": 14,
   "metadata": {},
   "outputs": [
    {
     "name": "stdout",
     "output_type": "stream",
     "text": [
      "Extracting /tmp/data/train-images-idx3-ubyte.gz\n",
      "Extracting /tmp/data/train-labels-idx1-ubyte.gz\n",
      "Extracting /tmp/data/t10k-images-idx3-ubyte.gz\n",
      "Extracting /tmp/data/t10k-labels-idx1-ubyte.gz\n"
     ]
    }
   ],
   "source": [
    "from tensorflow.examples.tutorials.mnist import input_data\n",
    "mnist = input_data.read_data_sets('/tmp/data', one_hot = True)"
   ]
  },
  {
   "cell_type": "code",
   "execution_count": 15,
   "metadata": {},
   "outputs": [],
   "source": [
    "n_pixels = 28 * 28\n",
    "\n",
    "# Placeholders --> Gateways\n",
    "X = tf.placeholder(tf.float32, shape = ([None, n_pixels]))"
   ]
  },
  {
   "cell_type": "code",
   "execution_count": 16,
   "metadata": {},
   "outputs": [],
   "source": [
    "def weight_variables(shape, name):\n",
    "    initial = tf.truncated_normal(shape, stddev = 0.1)\n",
    "    return tf.Variable(initial, name=name)\n",
    "\n",
    "def bias_variables(shape, name):\n",
    "    initial = tf.truncated_normal(shape, stddev = 0.1)\n",
    "    return tf.Variable(initial, name=name)\n",
    "\n",
    "def FC_layer(X, w, b):\n",
    "    return tf.matmul(X, w) + b\n",
    "\n"
   ]
  },
  {
   "cell_type": "markdown",
   "metadata": {},
   "source": [
    "# Encoder \n",
    "- Latent_dimensionality ==> Hyperparameter --> The number of dimensions we want, we're doing hit and try for this.\n",
    "- hidden_dimensionality ==> Number of neurons in input layers\n",
    "- mu --> Mean"
   ]
  },
  {
   "cell_type": "code",
   "execution_count": 17,
   "metadata": {},
   "outputs": [],
   "source": [
    "latent_dim = 20\n",
    "h_dim = 500\n",
    "\n",
    "# 2 layer feed froward eural network\n",
    "# Layer 1:  \n",
    "w_enc = weight_variables([n_pixels, h_dim], 'w_enc')  # Tensor\n",
    "b_enc = bias_variables([h_dim], 'b_enc')  # Tensor\n",
    "# tanh --> Activation funtion(range : (-1 to 1)), It avoids vanishing gradient problem\n",
    "h_enc = tf.nn.tanh(FC_layer(X, w_enc, b_enc))\n",
    "\n",
    "# Layer 2: \n",
    "w_mu = weight_variables([h_dim, latent_dim], 'w_mu')  # Tensor\n",
    "b_mu = bias_variables([latent_dim], 'b_mu')  # Tensor\n",
    "# tanh --> Activation funtion(range : (-1 to 1)), It avoids vanishing gradient problem\n",
    "mu = FC_layer(h_enc, w_mu, b_mu) #mean\n",
    "\n",
    "\n",
    "# Compute partial derivatives w.r.t our input values given our weight and bias\n",
    "# Standard Deviation : \n",
    "w_logstd = weight_variables([h_dim, latent_dim], 'w_logstd')  # Tensor\n",
    "b_logstd = bias_variables([latent_dim], 'b_logstd')  # Tensor\n",
    "# tanh --> Activation funtion(range : (-1 to 1)), It avoids vanishing gradient problem\n",
    "logstd = FC_layer(h_enc, w_logstd, b_logstd) #std\n",
    "\n",
    "\n",
    "# Randomness:\n",
    "noise = tf.random_normal([1, latent_dim])\n",
    "\n",
    "# This is the ouput\n",
    "z = mu + tf.multiply(noise, tf.exp(.5*logstd))\n"
   ]
  },
  {
   "cell_type": "markdown",
   "metadata": {},
   "source": [
    "# Decoder"
   ]
  },
  {
   "cell_type": "code",
   "execution_count": 18,
   "metadata": {},
   "outputs": [],
   "source": [
    "# decoder\n",
    "\n",
    "#layer 1\n",
    "W_dec = weight_variables([latent_dim, h_dim], 'W_dec')\n",
    "b_dec = bias_variables([h_dim], 'b_dec')\n",
    "#pass in z here (and the weights and biases we just defined)\n",
    "h_dec = tf.nn.tanh(FC_layer(z, W_dec, b_dec))\n",
    "\n",
    "\n",
    "#layer 2, using the original n pixels here since thats the dimensiaonlty\n",
    "#we want to restore our data to\n",
    "W_reconstruct = weight_variables([h_dim, n_pixels], 'W_reconstruct')\n",
    "b_reconstruct = bias_variables([n_pixels], 'b_reconstruct')\n",
    "#784 bernoulli parameters output\n",
    "reconstruction = tf.nn.sigmoid(FC_layer(h_dec, W_reconstruct, b_reconstruct))\n"
   ]
  },
  {
   "cell_type": "markdown",
   "metadata": {},
   "source": [
    "# Loss"
   ]
  },
  {
   "cell_type": "code",
   "execution_count": 19,
   "metadata": {},
   "outputs": [],
   "source": [
    "#lets define our loss function\n",
    "\n",
    "# variational lower bound\n",
    "\n",
    "# add epsilon to log to prevent numerical overflow\n",
    "#Information is lost because it goes from a smaller to a larger dimensionality. \n",
    "#How much information is lost? We measure this using the reconstruction log-likelihood \n",
    "#This measure tells us how effectively the decoder has learned to reconstruct\n",
    "#an input image x given its latent representation z.\n",
    "log_likelihood = tf.reduce_sum(X*tf.log(reconstruction + 1e-9)+(1 - X)*tf.log(1 - reconstruction + 1e-9), reduction_indices=1)\n",
    "#KL Divergence\n",
    "#If the encoder outputs representations z that are different \n",
    "#than those from a standard normal distribution, it will receive \n",
    "#a penalty in the loss. This regularizer term means \n",
    "#‘keep the representations z of each digit sufficiently diverse’. \n",
    "#If we didn’t include the regularizer, the encoder could learn to cheat\n",
    "#and give each datapoint a representation in a different region of Euclidean space. \n",
    "KL_term = -.5*tf.reduce_sum(1 + 2*logstd - tf.pow(mu,2) - tf.exp(2*logstd), reduction_indices=1)\n",
    "\n",
    "# This allows us to use stochastic gradient descent with respect to the variational parameters\n",
    "variational_lower_bound = tf.reduce_mean(log_likelihood - KL_term)\n",
    "optimizer = tf.train.AdadeltaOptimizer().minimize(-variational_lower_bound)"
   ]
  },
  {
   "cell_type": "markdown",
   "metadata": {},
   "source": [
    "# Training"
   ]
  },
  {
   "cell_type": "code",
   "execution_count": 20,
   "metadata": {},
   "outputs": [],
   "source": [
    "#init all variables and start the session!\n",
    "init = tf.global_variables_initializer()\n",
    "sess = tf.InteractiveSession()\n",
    "sess.run(init)\n",
    "## Add ops to save and restore all the variables.\n",
    "saver = tf.train.Saver()"
   ]
  },
  {
   "cell_type": "code",
   "execution_count": 21,
   "metadata": {},
   "outputs": [
    {
     "name": "stdout",
     "output_type": "stream",
     "text": [
      "Iteration: 0, Loss: -947.5431518554688\n"
     ]
    }
   ],
   "source": [
    "import time #lets clock training time..\n",
    "\n",
    "num_iterations = 1000\n",
    "recording_interval = 1000\n",
    "#store value for these 3 terms so we can plot them later\n",
    "variational_lower_bound_array = []\n",
    "log_likelihood_array = []\n",
    "KL_term_array = []\n",
    "\n",
    "# type(num_iterations/recording_interval)\n",
    "iteration_array = [i*recording_interval for i in range(int(num_iterations/recording_interval))]\n",
    "for i in range(num_iterations):\n",
    "    # np.round to make MNIST binary\n",
    "    #get first batch (200 digits)\n",
    "    x_batch = np.round(mnist.train.next_batch(200)[0])\n",
    "    #run our optimizer on our data\n",
    "    sess.run(optimizer, feed_dict={X: x_batch})\n",
    "    if (i%recording_interval == 0):\n",
    "        #every 1K iterations record these values\n",
    "        vlb_eval = variational_lower_bound.eval(feed_dict={X: x_batch})\n",
    "        print (\"Iteration: {}, Loss: {}\".format(i, vlb_eval))\n",
    "        variational_lower_bound_array.append(vlb_eval)\n",
    "        log_likelihood_array.append(np.mean(log_likelihood.eval(feed_dict={X: x_batch})))\n",
    "        KL_term_array.append(np.mean(KL_term.eval(feed_dict={X: x_batch})))"
   ]
  },
  {
   "cell_type": "code",
   "execution_count": 22,
   "metadata": {},
   "outputs": [
    {
     "data": {
      "text/plain": [
       "1"
      ]
     },
     "execution_count": 22,
     "metadata": {},
     "output_type": "execute_result"
    }
   ],
   "source": [
    "len(iteration_array)"
   ]
  },
  {
   "cell_type": "code",
   "execution_count": 23,
   "metadata": {},
   "outputs": [
    {
     "data": {
      "text/plain": [
       "Text(0.5, 1.0, 'Loss per iteration')"
      ]
     },
     "execution_count": 23,
     "metadata": {},
     "output_type": "execute_result"
    },
    {
     "data": {
      "image/png": "[encoded data removed]",
      "text/plain": [
       "<Figure size 432x288 with 1 Axes>"
      ]
     },
     "metadata": {
      "needs_background": "light"
     },
     "output_type": "display_data"
    }
   ],
   "source": [
    "plt.figure()\n",
    "#for the number of iterations we had \n",
    "#plot these 3 terms\n",
    "plt.plot(iteration_array, variational_lower_bound_array)\n",
    "plt.plot(iteration_array, KL_term_array)\n",
    "plt.plot(iteration_array, log_likelihood_array)\n",
    "plt.legend(['Variational Lower Bound', 'KL divergence', 'Log Likelihood'], bbox_to_anchor=(1.05, 1), loc=2)\n",
    "plt.title('Loss per iteration')"
   ]
  },
  {
   "cell_type": "code",
   "execution_count": null,
   "metadata": {},
   "outputs": [],
   "source": [
    "import os\n",
    "load_model = False\n",
    "if load_model:\n",
    "    saver.restore(sess, os.path.join(os.getcwd(), \"Trained Bernoulli VAE\"))\n",
    "\n",
    "num_pairs = 10\n",
    "image_indices = np.random.randint(0, 200, num_pairs)\n",
    "#Lets plot 10 digits\n",
    "for pair in range(num_pairs):\n",
    "    #reshaping to show original test image\n",
    "    x = np.reshape(mnist.test.images[image_indices[pair]], (1,n_pixels))\n",
    "    plt.figure()\n",
    "    x_image = np.reshape(x, (28,28))\n",
    "    plt.subplot(121)\n",
    "    plt.imshow(x_image)\n",
    "    #reconstructed image, feed the test image to the decoder\n",
    "    x_reconstruction = reconstruction.eval(feed_dict={X: x})\n",
    "    #reshape it to 28x28 pixels\n",
    "    x_reconstruction_image = (np.reshape(x_reconstruction, (28,28)))\n",
    "    #plot it!\n",
    "    plt.subplot(122)\n",
    "    plt.imshow(x_reconstruction_image)"
   ]
  }
 ],
 "metadata": {
  "kernelspec": {
   "display_name": "Python 3",
   "language": "python",
   "name": "python3"
  },
  "language_info": {
   "codemirror_mode": {
    "name": "ipython",
    "version": 3
   },
   "file_extension": ".py",
   "mimetype": "text/x-python",
   "name": "python",
   "nbconvert_exporter": "python",
   "pygments_lexer": "ipython3",
   "version": "3.6.8"
  }
 },
 "nbformat": 4,
 "nbformat_minor": 2
}
