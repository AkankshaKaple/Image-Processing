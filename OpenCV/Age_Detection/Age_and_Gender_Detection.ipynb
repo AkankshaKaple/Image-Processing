{
 "cells": [
  {
   "cell_type": "code",
   "execution_count": 11,
   "metadata": {},
   "outputs": [],
   "source": [
    "import cv2 as cv\n",
    "import numpy as np\n",
    "\n",
    "face = cv.imread('sheldon_1.jpg')"
   ]
  },
  {
   "cell_type": "code",
   "execution_count": 12,
   "metadata": {},
   "outputs": [
    {
     "name": "stdout",
     "output_type": "stream",
     "text": [
      "Gender Output : [[0.13885902 0.8611409 ]]\n",
      "Gender : Female\n"
     ]
    }
   ],
   "source": [
    "genderProto = \"/home/admin28/Akanksha/CNN/OpenCV/Age_Detection/gender_net_definitions/deploy.prototxt\"\n",
    "genderModel = \"/home/admin28/Akanksha/CNN/OpenCV/Age_Detection/models/gender_net.caffemodel\"\n",
    "genderNet = cv.dnn.readNet(genderModel, genderProto)\n",
    " \n",
    "genderList = ['Male', 'Female']\n",
    " \n",
    "blob = cv.dnn.blobFromImage(face, 1, (227, 227), swapRB=False)\n",
    "genderNet.setInput(blob)\n",
    "genderPreds = genderNet.forward()\n",
    "gender = genderList[genderPreds[0].argmax()]\n",
    "print(\"Gender Output : {}\".format(genderPreds))\n",
    "print(\"Gender : {}\".format(gender))"
   ]
  },
  {
   "cell_type": "code",
   "execution_count": 13,
   "metadata": {},
   "outputs": [
    {
     "name": "stdout",
     "output_type": "stream",
     "text": [
      "Age Output : [[4.7325162e-04 3.1025959e-03 4.0129512e-03 7.8183778e-02 1.9883600e-01\n",
      "  1.3005795e-01 5.7562274e-01 9.7106788e-03]]\n",
      "Age : (48 - 53)\n"
     ]
    }
   ],
   "source": [
    "ageProto = \"/home/admin28/Akanksha/CNN/OpenCV/Age_Detection/age_net_definitions/deploy.prototxt\"\n",
    "ageModel = \"/home/admin28/Akanksha/CNN/OpenCV/Age_Detection/models/age_net.caffemodel\"\n",
    "ageNet = cv.dnn.readNet(ageModel, ageProto)\n",
    " \n",
    "ageList = ['(0 - 2)', '(4 - 6)', '(8 - 12)', '(15 - 20)', '(25 - 32)', '(38 - 43)', '(48 - 53)', '(60 - 100)']\n",
    " \n",
    "ageNet.setInput(blob)\n",
    "agePreds = ageNet.forward()\n",
    "age = ageList[agePreds[0].argmax()]\n",
    "print(\"Age Output : {}\".format(agePreds))\n",
    "print(\"Age : {}\".format(age))"
   ]
  }
 ],
 "metadata": {
  "kernelspec": {
   "display_name": "Python 3",
   "language": "python",
   "name": "python3"
  },
  "language_info": {
   "codemirror_mode": {
    "name": "ipython",
    "version": 3
   },
   "file_extension": ".py",
   "mimetype": "text/x-python",
   "name": "python",
   "nbconvert_exporter": "python",
   "pygments_lexer": "ipython3",
   "version": "3.6.6"
  }
 },
 "nbformat": 4,
 "nbformat_minor": 2
}
