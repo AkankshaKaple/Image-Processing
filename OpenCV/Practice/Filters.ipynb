{
 "cells": [
  {
   "cell_type": "code",
   "execution_count": 88,
   "metadata": {},
   "outputs": [],
   "source": [
    "import cv2\n",
    "import numpy as np\n",
    "import matplotlib.pyplot as plt"
   ]
  },
  {
   "cell_type": "code",
   "execution_count": 89,
   "metadata": {},
   "outputs": [],
   "source": [
    "def show(image_name, image):\n",
    "    cv2.imshow(image_name, image)\n",
    "    cv2.waitKey(0)\n",
    "    cv2.destroyAllWindows()"
   ]
  },
  {
   "cell_type": "code",
   "execution_count": 90,
   "metadata": {},
   "outputs": [],
   "source": [
    "import skimage\n",
    "original_image = cv2.imread('big-bang-sheldon-never-wrong.jpg')\n",
    "image_1 = cv2.resize(original_image, (int(image.shape[1]/2), int(image.shape[0]/2)))\n",
    "\n",
    "image = skimage.util.random_noise(image_1, mode='gaussian', seed=None, clip=True)\n",
    "show(\"Ori\", image_1)\n",
    "show(\"Original\", image)"
   ]
  },
  {
   "cell_type": "code",
   "execution_count": 108,
   "metadata": {},
   "outputs": [],
   "source": [
    "original_image = cv2.imread('big-bang-sheldon-never-wrong.jpg')\n",
    "image_1 = cv2.resize(original_image, (int(image.shape[1]/2), int(image.shape[0]/2)))\n",
    "image_1 = cv2.cvtColor(image_1, cv2.COLOR_BGR2GRAY)\n",
    "image = skimage.util.random_noise(image_1, mode='gaussian', seed=None, clip=True)\n",
    "\n",
    "blur = cv2.blur(image,(3,3))\n",
    "show(\"Original\", image)\n",
    "show(\"Blur\", blur)"
   ]
  },
  {
   "cell_type": "code",
   "execution_count": 95,
   "metadata": {},
   "outputs": [],
   "source": [
    "cv2.COLOR_BGR2GRAY\n",
    "median_blur = cv2.medianBlur(image, 5)\n",
    "show(\"F1\", median_blur)"
   ]
  },
  {
   "cell_type": "code",
   "execution_count": 107,
   "metadata": {},
   "outputs": [],
   "source": [
    "gaussian_blur = cv2.GaussianBlur(image, (3,3), 0)\n",
    "show(\"Original\", image)\n",
    "show(\"gaussian_blur\", gaussian_blur)"
   ]
  },
  {
   "cell_type": "code",
   "execution_count": 110,
   "metadata": {},
   "outputs": [
    {
     "ename": "error",
     "evalue": "OpenCV(4.1.0) /io/opencv/modules/imgproc/src/bilateral_filter.dispatch.cpp:424: error: (-210:Unsupported format or combination of formats) Bilateral filtering is only implemented for 8u and 32f images in function 'bilateralFilter'\n",
     "output_type": "error",
     "traceback": [
      "\u001b[0;31m---------------------------------------------------------------------------\u001b[0m",
      "\u001b[0;31merror\u001b[0m                                     Traceback (most recent call last)",
      "\u001b[0;32m<ipython-input-110-0750a35713fd>\u001b[0m in \u001b[0;36m<module>\u001b[0;34m\u001b[0m\n\u001b[0;32m----> 1\u001b[0;31m \u001b[0mbilateral_blur\u001b[0m \u001b[0;34m=\u001b[0m \u001b[0mcv2\u001b[0m\u001b[0;34m.\u001b[0m\u001b[0mbilateralFilter\u001b[0m\u001b[0;34m(\u001b[0m\u001b[0mimage\u001b[0m\u001b[0;34m,\u001b[0m\u001b[0;36m70\u001b[0m\u001b[0;34m,\u001b[0m\u001b[0;36m5\u001b[0m\u001b[0;34m,\u001b[0m\u001b[0;36m5\u001b[0m\u001b[0;34m)\u001b[0m\u001b[0;34m\u001b[0m\u001b[0m\n\u001b[0m\u001b[1;32m      2\u001b[0m \u001b[0mshow\u001b[0m\u001b[0;34m(\u001b[0m\u001b[0;34m'Bilateral'\u001b[0m\u001b[0;34m,\u001b[0m \u001b[0mbilateral_blur\u001b[0m\u001b[0;34m)\u001b[0m\u001b[0;34m\u001b[0m\u001b[0m\n",
      "\u001b[0;31merror\u001b[0m: OpenCV(4.1.0) /io/opencv/modules/imgproc/src/bilateral_filter.dispatch.cpp:424: error: (-210:Unsupported format or combination of formats) Bilateral filtering is only implemented for 8u and 32f images in function 'bilateralFilter'\n"
     ]
    }
   ],
   "source": [
    "bilateral_blur = cv2.bilateralFilter(image,70,5,5)\n",
    "show('Bilateral', bilateral_blur)"
   ]
  },
  {
   "cell_type": "code",
   "execution_count": null,
   "metadata": {},
   "outputs": [],
   "source": []
  }
 ],
 "metadata": {
  "kernelspec": {
   "display_name": "Python 3",
   "language": "python",
   "name": "python3"
  },
  "language_info": {
   "codemirror_mode": {
    "name": "ipython",
    "version": 3
   },
   "file_extension": ".py",
   "mimetype": "text/x-python",
   "name": "python",
   "nbconvert_exporter": "python",
   "pygments_lexer": "ipython3",
   "version": "3.6.6"
  }
 },
 "nbformat": 4,
 "nbformat_minor": 2
}
